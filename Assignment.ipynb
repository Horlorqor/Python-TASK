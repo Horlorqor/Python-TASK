{
 "cells": [
  {
   "cell_type": "markdown",
   "id": "3a233346-d785-453f-b1aa-7d955a308596",
   "metadata": {},
   "source": [
    "1. Simple Calculator\r\n",
    "Objective: Build a simple calculator that performs basic arithmetic operations.\r\n",
    "\r\n",
    "Tasks:\r\n",
    "Define variables for two numbers and the operation."
   ]
  },
  {
   "cell_type": "markdown",
   "id": "05de1c3e-cbd4-422c-95dc-1db8d2066ce1",
   "metadata": {},
   "source": [
    "A variable is a quantity that may be changed according to the mathematical problem. The generic letters which are used in many algebraic expressions and equations are x, y, z. In other words, a variable is a symbol for a number where the value is not known. For example, a + 5 = 10. Here “a” is a variable."
   ]
  },
  {
   "cell_type": "markdown",
   "id": "b1ae7adb-2dd1-4a68-a3e6-ad5a420766a3",
   "metadata": {},
   "source": [
    "Use input to get the numbers and the operation (+, -, *, /) from the user."
   ]
  },
  {
   "cell_type": "code",
   "execution_count": 28,
   "id": "905e04a0-e321-4985-b404-29340b89b10d",
   "metadata": {},
   "outputs": [
    {
     "name": "stdout",
     "output_type": "stream",
     "text": [
      "20\n"
     ]
    }
   ],
   "source": [
    "a = 13\n",
    "\n",
    "b = 7\n",
    "\n",
    "print(a + b)"
   ]
  },
  {
   "cell_type": "code",
   "execution_count": 36,
   "id": "53bbd9b7-2fe1-4e4e-923a-cc82640fd1f1",
   "metadata": {},
   "outputs": [
    {
     "name": "stdout",
     "output_type": "stream",
     "text": [
      "6\n"
     ]
    }
   ],
   "source": [
    "a = 13\n",
    "\n",
    "b = 7\n",
    "\n",
    "print(a - b)"
   ]
  },
  {
   "cell_type": "code",
   "execution_count": 32,
   "id": "dc6fe36d-c1d2-4ca3-b096-d592cb30045d",
   "metadata": {},
   "outputs": [
    {
     "name": "stdout",
     "output_type": "stream",
     "text": [
      "91\n"
     ]
    }
   ],
   "source": [
    "a = 13\n",
    "\n",
    "b = 7\n",
    "\n",
    "print(a * b)"
   ]
  },
  {
   "cell_type": "code",
   "execution_count": 34,
   "id": "c11c6ede-6200-4cfa-b1e7-92979cb6b30f",
   "metadata": {},
   "outputs": [
    {
     "name": "stdout",
     "output_type": "stream",
     "text": [
      "1.8571428571428572\n"
     ]
    }
   ],
   "source": [
    "a = 13\n",
    "\n",
    "b = 7\n",
    "\n",
    "print(a / b)"
   ]
  },
  {
   "cell_type": "markdown",
   "id": "1998be87-6538-46ed-9cdb-9d93e9e23180",
   "metadata": {},
   "source": [
    "Use conditionals to perform the correct operation based on user input.\r\n",
    "Print the result of the operation."
   ]
  },
  {
   "cell_type": "code",
   "execution_count": 8,
   "id": "e34b399c-b296-43da-9d04-97fe96fdd778",
   "metadata": {},
   "outputs": [
    {
     "name": "stdin",
     "output_type": "stream",
     "text": [
      "Enter your name:  Tunde\n",
      "Enter your age:  18\n",
      "Enter your street:  Bodija\n",
      "Enter your country:  Nigeria\n"
     ]
    },
    {
     "name": "stdout",
     "output_type": "stream",
     "text": [
      "Tunde 18 Bodija Nigeria\n"
     ]
    }
   ],
   "source": [
    "user_input = input(\"Enter your name: \")\n",
    "\n",
    "user_age = input(\"Enter your age: \")\n",
    "\n",
    "user_street = input(\"Enter your street: \")\n",
    "\n",
    "user_country = input(\"Enter your country: \")\n",
    "\n",
    "print(user_input, user_age, user_street, user_country)\n"
   ]
  },
  {
   "cell_type": "markdown",
   "id": "cd7675e1-707a-4562-9f6d-44ada772856f",
   "metadata": {},
   "source": [
    "2. Temperature Converter\r\n",
    "Objective: Write a Python program that converts temperature from Celsius to Fahrenheit and vice versa.\r\n",
    "Tasks:\r\n",
    "Define variables for Celsius and Fahrenhe\n",
    "Use input to get temperature values from the user.\n",
    "\r\n",
    "Use conditionals to determine the conversion direction\n",
    ".\r\n",
    "Output the converted temperature.\n",
    "it."
   ]
  },
  {
   "cell_type": "markdown",
   "id": "b6c71066-9215-43ba-bcf3-3f90689e397d",
   "metadata": {},
   "source": [
    "Write a Python program that converts temperature from Celsius to Fahrenheit and vice versa \n",
    "\n",
    " the “algorithm” to calculate celsius is C = F - 32 *5/9.\n",
    "\n",
    "Celsius = (Fahrenheit – 32) * 5/9\n",
    "\r\n",
    "Fahrenheit = (Celsius * 9/5) + 32"
   ]
  },
  {
   "cell_type": "markdown",
   "id": "66226400-6bd4-41e0-a047-96d8baed587f",
   "metadata": {},
   "source": [
    "A python program that convert Celsius to fahrenheit with the use of input"
   ]
  },
  {
   "cell_type": "code",
   "execution_count": 3,
   "id": "e3f678eb-786a-4858-b4a6-2e39d686ff84",
   "metadata": {},
   "outputs": [
    {
     "name": "stdin",
     "output_type": "stream",
     "text": [
      "Enter temperature in celsius:  25\n"
     ]
    },
    {
     "name": "stdout",
     "output_type": "stream",
     "text": [
      "25.00 Celsius is: 77.00 Fahrenheit\n"
     ]
    }
   ],
   "source": [
    "celsius = float(input(\"Enter temperature in celsius: \"))\n",
    "\n",
    "fahrenheit = (celsius * 9/5) + 32\n",
    "\n",
    "print('%.2f Celsius is: %0.2f Fahrenheit' %(celsius, fahrenheit))"
   ]
  },
  {
   "cell_type": "markdown",
   "id": "a73166a2-b347-4ee9-8eba-537effac2759",
   "metadata": {},
   "source": [
    "A python program that convert fahrenheit to Celsius with the use of input"
   ]
  },
  {
   "cell_type": "code",
   "execution_count": 18,
   "id": "f724efeb-aa81-4ce8-987c-9ff6936f3d46",
   "metadata": {},
   "outputs": [
    {
     "name": "stdin",
     "output_type": "stream",
     "text": [
      "Enter temperature in fahrenheit:  89\n"
     ]
    },
    {
     "name": "stdout",
     "output_type": "stream",
     "text": [
      "89.00 Fahrenheit is: 31.67 Celsius\n"
     ]
    }
   ],
   "source": [
    "fahrenheit = float(input(\"Enter temperature in fahrenheit: \"))\n",
    "\n",
    "celsius = (fahrenheit - 32) * 5/9\n",
    "\n",
    "print('%.2f Fahrenheit is: %0.2f Celsius' %(fahrenheit, celsius))"
   ]
  },
  {
   "cell_type": "markdown",
   "id": "26087288-f6f8-44d8-9319-89f9279e04b1",
   "metadata": {},
   "source": [
    "Use of conditionals to determine the conversion direction."
   ]
  },
  {
   "cell_type": "code",
   "execution_count": 45,
   "id": "d82170d2-fff4-4d35-ab7d-be3e95d29bdb",
   "metadata": {},
   "outputs": [
    {
     "name": "stdout",
     "output_type": "stream",
     "text": [
      "Normal Temperature!\n"
     ]
    }
   ],
   "source": [
    "if celsius < 0:\n",
    "  print(\"No Temperature!\")\n",
    "elif celsius > 0 and celsius < 37:\n",
    "  print(\"Normal Temperature!\")\n",
    "else:\n",
    "  print(\"Abnormal temperature\")"
   ]
  }
 ],
 "metadata": {
  "kernelspec": {
   "display_name": "Python 3 (ipykernel)",
   "language": "python",
   "name": "python3"
  },
  "language_info": {
   "codemirror_mode": {
    "name": "ipython",
    "version": 3
   },
   "file_extension": ".py",
   "mimetype": "text/x-python",
   "name": "python",
   "nbconvert_exporter": "python",
   "pygments_lexer": "ipython3",
   "version": "3.12.4"
  }
 },
 "nbformat": 4,
 "nbformat_minor": 5
}
